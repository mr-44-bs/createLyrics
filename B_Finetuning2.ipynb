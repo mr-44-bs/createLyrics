{
  "cells": [
    {
      "cell_type": "markdown",
      "metadata": {
        "id": "view-in-github",
        "colab_type": "text"
      },
      "source": [
        "<a href=\"https://colab.research.google.com/github/mr-44-bs/createLyrics/blob/main/B_Finetuning2.ipynb\" target=\"_parent\"><img src=\"https://colab.research.google.com/assets/colab-badge.svg\" alt=\"Open In Colab\"/></a>"
      ]
    },
    {
      "cell_type": "code",
      "execution_count": null,
      "metadata": {
        "colab": {
          "base_uri": "https://localhost:8080/"
        },
        "id": "td1QRzZJw044",
        "outputId": "d259da53-bb2e-43b4-8bc8-4bee94faa709"
      },
      "outputs": [
        {
          "output_type": "stream",
          "name": "stdout",
          "text": [
            "Drive already mounted at /content/gdrive; to attempt to forcibly remount, call drive.mount(\"/content/gdrive\", force_remount=True).\n"
          ]
        }
      ],
      "source": [
        "from google.colab import drive\n",
        "drive.mount('/content/gdrive') #googledriveと接続"
      ]
    },
    {
      "cell_type": "code",
      "execution_count": null,
      "metadata": {
        "id": "ZfTB9BIpvqyT"
      },
      "outputs": [],
      "source": [
        "!pip install mlflow #実行環境、モデル、パラメータ、評価指標などの実験管理を行ってくれるプラットフォームであるmlflowのインストール"
      ]
    },
    {
      "cell_type": "code",
      "execution_count": null,
      "metadata": {
        "id": "QwvVSQZvv1G-"
      },
      "outputs": [],
      "source": [
        "!pip install transformers #transformersのインストール"
      ]
    },
    {
      "cell_type": "code",
      "execution_count": null,
      "metadata": {
        "id": "8mKAkopMy3Aj"
      },
      "outputs": [],
      "source": [
        "!pip install fugashi #fugashiのインストール"
      ]
    },
    {
      "cell_type": "code",
      "execution_count": null,
      "metadata": {
        "id": "wsLqoe0ezCdQ"
      },
      "outputs": [],
      "source": [
        "!pip install ipadic #ipadicのインストール"
      ]
    },
    {
      "cell_type": "code",
      "execution_count": null,
      "metadata": {
        "id": "GhTicyVxwJHb"
      },
      "outputs": [],
      "source": [
        "!pip install pytorch-lightning #pytorch-lightningのインストール"
      ]
    },
    {
      "cell_type": "code",
      "execution_count": null,
      "metadata": {
        "id": "qOwnyfTpvePV"
      },
      "outputs": [],
      "source": [
        "import random\n",
        "import glob\n",
        "from tqdm import tqdm\n",
        "\n",
        "import torch\n",
        "import pandas as pd\n",
        "import numpy as np\n",
        "from torch.utils.data import TensorDataset, random_split\n",
        "from torch.utils.data import DataLoader, RandomSampler, SequentialSampler\n",
        "from mlflow import log_metric, log_param, log_artifact\n",
        "from transformers import BertJapaneseTokenizer, BertForSequenceClassification\n",
        "import pytorch_lightning as pl\n",
        "\n",
        "#環境を整えている"
      ]
    },
    {
      "cell_type": "code",
      "execution_count": null,
      "metadata": {
        "id": "X21Ry_iWwa5e"
      },
      "outputs": [],
      "source": [
        "df = pd.read_csv(\"/content/gdrive/My Drive/Colab Notebooks/lyrics/MrChildren_train.csv\", sep=',', header=0,\n",
        "                 names=[\"title\", \"lyrics\"])\n",
        "\n",
        "df[\"label\"] = 0"
      ]
    },
    {
      "cell_type": "code",
      "execution_count": null,
      "metadata": {
        "id": "G28uIE43xD4Q"
      },
      "outputs": [],
      "source": [
        "df"
      ]
    },
    {
      "cell_type": "code",
      "execution_count": null,
      "metadata": {
        "id": "lIuPDSq7xO-o"
      },
      "outputs": [],
      "source": [
        "df1 = pd.read_csv(\"/content/gdrive/My Drive/Colab Notebooks/lyrics/spitz_train.csv\", sep=',', header=0,\n",
        "                 names=[\"title\", \"lyrics\"])\n",
        "\n",
        "df1[\"label\"] = 1"
      ]
    },
    {
      "cell_type": "code",
      "execution_count": null,
      "metadata": {
        "id": "T9h_2akOxV2Y"
      },
      "outputs": [],
      "source": [
        "df1"
      ]
    },
    {
      "cell_type": "code",
      "execution_count": null,
      "metadata": {
        "id": "ybAs4Qb6oJVA"
      },
      "outputs": [],
      "source": [
        "df2 = pd.read_csv(\"/content/gdrive/My Drive/Colab Notebooks/lyrics/Ringo_train.csv\", sep=',', header=0,\n",
        "                 names=[\"title\", \"lyrics\"])\n",
        "\n",
        "df2[\"label\"] = 2"
      ]
    },
    {
      "cell_type": "code",
      "execution_count": null,
      "metadata": {
        "id": "o5pleVuRq9fR"
      },
      "outputs": [],
      "source": [
        "df2"
      ]
    },
    {
      "cell_type": "code",
      "execution_count": null,
      "metadata": {
        "id": "JcXYR8_Iu3QA"
      },
      "outputs": [],
      "source": [
        "df3 = pd.read_csv(\"/content/gdrive/My Drive/Colab Notebooks/lyrics/back_train.csv\", sep=',', header=0,\n",
        "                 names=[\"title\", \"lyrics\"])\n",
        "\n",
        "df3[\"label\"] = 3"
      ]
    },
    {
      "cell_type": "code",
      "execution_count": null,
      "metadata": {
        "id": "g1W3RuCSvS3h"
      },
      "outputs": [],
      "source": [
        "df3"
      ]
    },
    {
      "cell_type": "code",
      "execution_count": null,
      "metadata": {
        "id": "pI2OE6q4vZ5W"
      },
      "outputs": [],
      "source": [
        "df4 = pd.read_csv(\"/content/gdrive/My Drive/Colab Notebooks/lyrics/Rad_train.csv\", sep=',', header=0,\n",
        "                 names=[\"title\", \"lyrics\"])\n",
        "\n",
        "df4[\"label\"] = 4"
      ]
    },
    {
      "cell_type": "code",
      "execution_count": null,
      "metadata": {
        "id": "AB4NXEm_viv6"
      },
      "outputs": [],
      "source": [
        "df4"
      ]
    },
    {
      "cell_type": "code",
      "execution_count": null,
      "metadata": {
        "id": "wilHZpwOLEcI"
      },
      "outputs": [],
      "source": [
        "df5 = pd.read_csv(\"/content/gdrive/My Drive/Colab Notebooks/lyrics/B'z_train.csv\", sep=',', header=0,\n",
        "                 names=[\"title\", \"lyrics\"])\n",
        "\n",
        "df5[\"label\"] = 5"
      ]
    },
    {
      "cell_type": "code",
      "execution_count": null,
      "metadata": {
        "id": "0DCgTs8axckX"
      },
      "outputs": [],
      "source": [
        "df_concat = pd.concat([df,df1,df2,df3,df4,df5],axis=0)\n",
        "print(df_concat)"
      ]
    },
    {
      "cell_type": "code",
      "execution_count": null,
      "metadata": {
        "id": "46ikOOFLxqMV"
      },
      "outputs": [],
      "source": [
        "labels = df_concat.label.values\n",
        "lyrics = df_concat.lyrics.values\n",
        "print(labels)\n",
        "print(lyrics)"
      ]
    },
    {
      "cell_type": "code",
      "execution_count": null,
      "metadata": {
        "id": "uO2Wvku9ysmw"
      },
      "outputs": [],
      "source": [
        "tokenizer = BertJapaneseTokenizer.from_pretrained('cl-tohoku/bert-base-japanese-whole-word-masking')"
      ]
    },
    {
      "cell_type": "code",
      "execution_count": null,
      "metadata": {
        "id": "ZbYUjHHlHUT8"
      },
      "outputs": [],
      "source": [
        "train_size = int(0.8 * len(df_concat))\n",
        "val_size = len(df_concat) - train_size\n",
        "test_size = int(val_size/2)\n",
        "val_size2 = val_size-test_size\n",
        "\n",
        "# データセットを分割\n",
        "train, val = random_split(df_concat, [train_size, val_size])\n",
        "test, val = random_split(val, [test_size, val_size2])"
      ]
    },
    {
      "cell_type": "code",
      "execution_count": null,
      "metadata": {
        "id": "iNhI7tTIziJR"
      },
      "outputs": [],
      "source": [
        "max_length = 512"
      ]
    },
    {
      "cell_type": "code",
      "execution_count": null,
      "metadata": {
        "id": "MTSGGxpUzQhB"
      },
      "outputs": [],
      "source": [
        "dataset_for_loader = []\n",
        "\n",
        "end_term = \"[SEP]\"\n",
        "\n",
        "# 1文づつ処理\n",
        "for x , label in zip(lyrics, labels):\n",
        "    #sent= x  + end_term + y\n",
        "\n",
        "    encoding = tokenizer(\n",
        "            x,\n",
        "            max_length=max_length,\n",
        "            padding='max_length',\n",
        "            truncation=True\n",
        "        )\n",
        "\n",
        "    encoding['labels'] = label # ラベルを追加\n",
        "    encoding = { k: torch.tensor(v) for k, v in encoding.items() }\n",
        "    dataset_for_loader.append(encoding)\n"
      ]
    },
    {
      "cell_type": "code",
      "execution_count": null,
      "metadata": {
        "id": "cmvf5DySz5n6"
      },
      "outputs": [],
      "source": [
        "train_size1 = int(0.8 * len(dataset_for_loader))\n",
        "val_size1 = len(dataset_for_loader) - train_size\n",
        "test_size1 = int(val_size/2)\n",
        "val_size2 = val_size-test_size\n",
        "\n",
        "# データセットを分割\n",
        "train_dataset, val_dataset = random_split(dataset_for_loader, [train_size1, val_size1])\n",
        "test_dataset, val_dataset = random_split(val_dataset, [test_size1, val_size2])"
      ]
    },
    {
      "cell_type": "code",
      "execution_count": null,
      "metadata": {
        "id": "LxRFbzP80tdU"
      },
      "outputs": [],
      "source": [
        "dataloader_train = DataLoader(\n",
        "    train_dataset, batch_size=16, shuffle=True\n",
        ")\n",
        "dataloader_val = DataLoader(val_dataset, batch_size=16)\n",
        "dataloader_test = DataLoader(test_dataset, batch_size=1)"
      ]
    },
    {
      "cell_type": "code",
      "execution_count": null,
      "metadata": {
        "colab": {
          "base_uri": "https://localhost:8080/"
        },
        "id": "zobCzl7D1KHd",
        "outputId": "f2bf0f45-cf96-477b-9cae-0b2308ffadbd"
      },
      "outputs": [
        {
          "metadata": {
            "tags": null
          },
          "name": "stderr",
          "output_type": "stream",
          "text": [
            "Some weights of the model checkpoint at cl-tohoku/bert-base-japanese-whole-word-masking were not used when initializing BertForSequenceClassification: ['cls.predictions.transform.LayerNorm.weight', 'cls.predictions.transform.dense.weight', 'cls.seq_relationship.weight', 'cls.predictions.decoder.weight', 'cls.seq_relationship.bias', 'cls.predictions.transform.LayerNorm.bias', 'cls.predictions.transform.dense.bias', 'cls.predictions.bias']\n",
            "- This IS expected if you are initializing BertForSequenceClassification from the checkpoint of a model trained on another task or with another architecture (e.g. initializing a BertForSequenceClassification model from a BertForPreTraining model).\n",
            "- This IS NOT expected if you are initializing BertForSequenceClassification from the checkpoint of a model that you expect to be exactly identical (initializing a BertForSequenceClassification model from a BertForSequenceClassification model).\n",
            "Some weights of BertForSequenceClassification were not initialized from the model checkpoint at cl-tohoku/bert-base-japanese-whole-word-masking and are newly initialized: ['classifier.bias', 'classifier.weight']\n",
            "You should probably TRAIN this model on a down-stream task to be able to use it for predictions and inference.\n"
          ]
        }
      ],
      "source": [
        "MODEL_NAME = 'cl-tohoku/bert-base-japanese-whole-word-masking'\n",
        "bert_sc = BertForSequenceClassification.from_pretrained(MODEL_NAME, num_labels=2)\n",
        "bert_sc = bert_sc.cuda()"
      ]
    },
    {
      "cell_type": "code",
      "execution_count": null,
      "metadata": {
        "id": "yjPGOmRu2UIy"
      },
      "outputs": [],
      "source": [
        "class BertForSequenceClassification_pl(pl.LightningModule):\n",
        "\n",
        "    def __init__(self, model_name, num_labels, lr):\n",
        "        super().__init__()\n",
        "        self.save_hyperparameters()\n",
        "\n",
        "        #BERTのロード\n",
        "        self.bert_sc = BertForSequenceClassification.from_pretrained(\n",
        "            model_name,\n",
        "            num_labels = num_labels\n",
        "        )\n",
        "\n",
        "    def training_step(self, batch, batch_idx):\n",
        "        output = self.bert_sc(**batch)\n",
        "        loss = output.loss\n",
        "        self.log('train_loss', loss) #損失関数 lossをaccuracyに変えることもできる\n",
        "        return loss\n",
        "\n",
        "    def validation_step(self, batch, batch_idx):\n",
        "        output = self.bert_sc(**batch) #batchは読み込ませるデータの塊　ハイパーパラメータだから変えて比較するのもあり\n",
        "        val_loss = output.loss\n",
        "        self.log('val_loss', val_loss)\n",
        "\n",
        "    def test_step(self, batch, batch_idx):\n",
        "        labels = batch.pop('labels')\n",
        "        output = self.bert_sc(**batch)\n",
        "        labels_predicted = output.logits.argmax(-1)\n",
        "        num_correct = (labels_predicted == labels).sum().item()\n",
        "        accuracy = num_correct / labels.size(0)\n",
        "        self.log('accuracy', accuracy)\n",
        "\n",
        "    def configure_optimizers(self):\n",
        "        return torch.optim.AdamW(self.parameters(), lr=self.hparams.lr)"
      ]
    },
    {
      "cell_type": "code",
      "execution_count": null,
      "metadata": {
        "id": "ZhHT3aag3W6X",
        "colab": {
          "base_uri": "https://localhost:8080/"
        },
        "outputId": "77156b83-c0ae-4f9b-aacb-c5d4a22b4b18"
      },
      "outputs": [
        {
          "metadata": {
            "tags": null
          },
          "name": "stderr",
          "output_type": "stream",
          "text": [
            "INFO:pytorch_lightning.utilities.rank_zero:GPU available: True (cuda), used: True\n",
            "INFO:pytorch_lightning.utilities.rank_zero:TPU available: False, using: 0 TPU cores\n",
            "INFO:pytorch_lightning.utilities.rank_zero:IPU available: False, using: 0 IPUs\n",
            "INFO:pytorch_lightning.utilities.rank_zero:HPU available: False, using: 0 HPUs\n"
          ]
        }
      ],
      "source": [
        "checkpoint = pl.callbacks.ModelCheckpoint(\n",
        "    monitor = 'val_loss',\n",
        "    mode = 'min',#今回は損失関数で評価していて、損失関数が小さいものを採用する（accuracyの場合などはmax使ったりする）\n",
        "    save_top_k = 1,#一番損失関数が小さいモデルを保存する\n",
        "    save_weights_only = True,\n",
        "    dirpath  = 'model/'\n",
        ")\n",
        "\n",
        "early_stopping = pl.callbacks.EarlyStopping( #学習が収束したあたりで学習を終わらせる\n",
        "    monitor = 'val_loss',\n",
        "    mode = 'min',\n",
        "    patience = 10\n",
        ")\n",
        "\n",
        "trainer = pl.Trainer(\n",
        "    accelerator = 'gpu',\n",
        "    #devices = 2,\n",
        "    #gpus = [2],\n",
        "    max_epochs = 20,#自分が用意したデータを何週学習させるか指定\n",
        "    callbacks = [checkpoint, early_stopping]\n",
        ")"
      ]
    },
    {
      "cell_type": "code",
      "execution_count": null,
      "metadata": {
        "id": "U1HJFbjt4jp5",
        "colab": {
          "base_uri": "https://localhost:8080/",
          "height": 445,
          "referenced_widgets": [
            "bd364eef2d7b4260aed9a9dc8a5835bb",
            "0d85e72cfead47e48b6fa839da0b380e",
            "95133b8aceaa4a8ab3ce9efd60390cf5",
            "e81977e4424842508c5c3eddeb4e0189",
            "31966de64e21465e955af8c5b728d892",
            "015fc17da2f3460098f3c55d9225e06c",
            "feb2340a0bf54ba0b94823c266b9df31",
            "d3964532253d474180293a31e158434d",
            "4fe47d00a19d46acba828d9ce3e7c17b",
            "e38c062a6b8b47f1a800ad6accd02df5",
            "5da9d08328c443a2b8321c1839d94563",
            "b37f71165ee74d28955dad25acfef11f",
            "764ca2082fd44a12a7cf9abfa6fddbde",
            "8177afc4f6dd4e93bbb3e36b4383bd98",
            "121e32ac354144a090b9dd186be66ec7",
            "136927f39c0940939aa05360473381d5",
            "9f88abd2f9c149678bc69ec75317a25f",
            "f3b2290c17af490c836750f10795aa96",
            "f3a383c726ae4b75b0144b2340b9844d",
            "3fc5ac500c604947b636e5077feedd08",
            "f9cd483e758e44898c04fc795fa8c037",
            "d88935c3179b4aa29980d93a406c0d02",
            "390c49f3af0d4cde81634fd2ff9c35ee",
            "7391dc4a68e646a89695e740e30b8a4b",
            "65bcb13c993c4b5ea22e7e0c41eb69c7",
            "a67328773a5e4e46abd45cdb861cee65",
            "bde83050915e46d0aa2c8003fa1fca98",
            "92b9091a7db24435a5453798eb491b30",
            "57eb1809158a4dcd9b51b25661ee38f9",
            "abb575415f034338bec3bd480ad52e1e",
            "0513224fd65744519c0c2b86c604eb11",
            "7e9e2af7db944b0aa76355f617c4598c",
            "697979ff259c4c32806a8fc721b7cc00",
            "758db22db00b4206b6d8b549295d96b6",
            "72de515d18ad498fb1d926d807e4a723",
            "71ed4608649948819d5303953f3f0e14",
            "de39bb8902ea4607bebb4d818d739df8"
          ]
        },
        "outputId": "1bd5cbc1-5663-4e6d-995f-13867e6dfb42"
      },
      "outputs": [
        {
          "metadata": {
            "tags": null
          },
          "name": "stderr",
          "output_type": "stream",
          "text": [
            "Some weights of the model checkpoint at cl-tohoku/bert-base-japanese-whole-word-masking were not used when initializing BertForSequenceClassification: ['cls.predictions.transform.LayerNorm.weight', 'cls.predictions.transform.dense.weight', 'cls.seq_relationship.weight', 'cls.predictions.decoder.weight', 'cls.seq_relationship.bias', 'cls.predictions.transform.LayerNorm.bias', 'cls.predictions.transform.dense.bias', 'cls.predictions.bias']\n",
            "- This IS expected if you are initializing BertForSequenceClassification from the checkpoint of a model trained on another task or with another architecture (e.g. initializing a BertForSequenceClassification model from a BertForPreTraining model).\n",
            "- This IS NOT expected if you are initializing BertForSequenceClassification from the checkpoint of a model that you expect to be exactly identical (initializing a BertForSequenceClassification model from a BertForSequenceClassification model).\n",
            "Some weights of BertForSequenceClassification were not initialized from the model checkpoint at cl-tohoku/bert-base-japanese-whole-word-masking and are newly initialized: ['classifier.bias', 'classifier.weight']\n",
            "You should probably TRAIN this model on a down-stream task to be able to use it for predictions and inference.\n",
            "/usr/local/lib/python3.10/dist-packages/pytorch_lightning/callbacks/model_checkpoint.py:615: UserWarning: Checkpoint directory /content/model exists and is not empty.\n",
            "  rank_zero_warn(f\"Checkpoint directory {dirpath} exists and is not empty.\")\n",
            "INFO:pytorch_lightning.accelerators.cuda:LOCAL_RANK: 0 - CUDA_VISIBLE_DEVICES: [0]\n",
            "INFO:pytorch_lightning.callbacks.model_summary:\n",
            "  | Name    | Type                          | Params\n",
            "----------------------------------------------------------\n",
            "0 | bert_sc | BertForSequenceClassification | 110 M \n",
            "----------------------------------------------------------\n",
            "110 M     Trainable params\n",
            "0         Non-trainable params\n",
            "110 M     Total params\n",
            "442.488   Total estimated model params size (MB)\n"
          ]
        },
        {
          "data": {
            "application/vnd.jupyter.widget-view+json": {
              "model_id": "bd364eef2d7b4260aed9a9dc8a5835bb",
              "version_major": 2,
              "version_minor": 0
            },
            "text/plain": [
              "Sanity Checking: 0it [00:00, ?it/s]"
            ]
          },
          "metadata": {},
          "output_type": "display_data"
        },
        {
          "data": {
            "application/vnd.jupyter.widget-view+json": {
              "model_id": "0d85e72cfead47e48b6fa839da0b380e",
              "version_major": 2,
              "version_minor": 0
            },
            "text/plain": [
              "Training: 0it [00:00, ?it/s]"
            ]
          },
          "metadata": {},
          "output_type": "display_data"
        },
        {
          "data": {
            "application/vnd.jupyter.widget-view+json": {
              "model_id": "95133b8aceaa4a8ab3ce9efd60390cf5",
              "version_major": 2,
              "version_minor": 0
            },
            "text/plain": [
              "Validation: 0it [00:00, ?it/s]"
            ]
          },
          "metadata": {},
          "output_type": "display_data"
        },
        {
          "data": {
            "application/vnd.jupyter.widget-view+json": {
              "model_id": "8177afc4f6dd4e93bbb3e36b4383bd98",
              "version_major": 2,
              "version_minor": 0
            },
            "text/plain": [
              "Validation: 0it [00:00, ?it/s]"
            ]
          },
          "metadata": {},
          "output_type": "display_data"
        },
        {
          "data": {
            "application/vnd.jupyter.widget-view+json": {
              "model_id": "121e32ac354144a090b9dd186be66ec7",
              "version_major": 2,
              "version_minor": 0
            },
            "text/plain": [
              "Validation: 0it [00:00, ?it/s]"
            ]
          },
          "metadata": {},
          "output_type": "display_data"
        },
        {
          "output_type": "display_data",
          "data": {
            "text/plain": [
              "Validation: 0it [00:00, ?it/s]"
            ],
            "application/vnd.jupyter.widget-view+json": {
              "version_major": 2,
              "version_minor": 0,
              "model_id": "136927f39c0940939aa05360473381d5"
            }
          },
          "metadata": {}
        },
        {
          "output_type": "display_data",
          "data": {
            "text/plain": [
              "Validation: 0it [00:00, ?it/s]"
            ],
            "application/vnd.jupyter.widget-view+json": {
              "version_major": 2,
              "version_minor": 0,
              "model_id": "bde83050915e46d0aa2c8003fa1fca98"
            }
          },
          "metadata": {}
        }
      ],
      "source": [
        "model = BertForSequenceClassification_pl(\n",
        "    MODEL_NAME, num_labels=6, lr=2e-5\n",
        ")\n",
        "\n",
        "trainer.fit(model, dataloader_train, dataloader_val)"
      ]
    },
    {
      "cell_type": "code",
      "execution_count": null,
      "metadata": {
        "id": "h_Cp_vcd8KF-"
      },
      "outputs": [],
      "source": [
        "best_model_path = checkpoint.best_model_path # ベストモデルのファイル\n",
        "print('ベストモデルのファイル: ', checkpoint.best_model_path)\n",
        "print('ベストモデルの検証データに対する損失: ', checkpoint.best_model_score)"
      ]
    },
    {
      "cell_type": "code",
      "execution_count": null,
      "metadata": {
        "id": "Fh86ynB08WVe"
      },
      "outputs": [],
      "source": [
        "# PyTorch Lightningモデルのロード\n",
        "model = BertForSequenceClassification_pl.load_from_checkpoint(\n",
        "    best_model_path\n",
        ")\n",
        "\n",
        "# Transformers対応のモデルを./model_transformesに保存\n",
        "model.bert_sc.save_pretrained('./model_transformers')"
      ]
    },
    {
      "cell_type": "code",
      "execution_count": null,
      "metadata": {
        "id": "Cn9mcj_K84km"
      },
      "outputs": [],
      "source": [
        "bert_sc = BertForSequenceClassification.from_pretrained(\n",
        "    './model_transformers'\n",
        ")#ベストモデルを保存したディレクトリからBertForSequenceClassificationモデルを読み込む\n",
        "\n",
        "bert_sc.cuda()#GPU上で実行するためにモデルをGPUメモリに転送"
      ]
    },
    {
      "cell_type": "code",
      "execution_count": null,
      "metadata": {
        "id": "fSO_RB7ADf2M"
      },
      "outputs": [],
      "source": [
        "test = trainer.test(dataloaders=dataloader_test)\n",
        "print(f'Accuracy: {test[0][\"accuracy\"]:.2f}')"
      ]
    },
    {
      "cell_type": "code",
      "execution_count": null,
      "metadata": {
        "id": "sphFTUHdLMou"
      },
      "outputs": [],
      "source": [
        "df = pd.read_csv(\"/content/gdrive/My Drive/Colab Notebooks/lyrics/MrChildren_test.csv\", sep=',', header=0,\n",
        "                 names=[\"title\", \"lyrics\"])\n",
        "\n",
        "df[\"label\"] = 0"
      ]
    },
    {
      "cell_type": "code",
      "execution_count": null,
      "metadata": {
        "id": "wlR33d4cLRoi"
      },
      "outputs": [],
      "source": [
        "df1 = pd.read_csv(\"/content/gdrive/My Drive/Colab Notebooks/lyrics/spitz_test.csv\", sep=',', header=0,\n",
        "                 names=[\"title\", \"lyrics\"])\n",
        "\n",
        "df1[\"label\"] = 1"
      ]
    },
    {
      "cell_type": "code",
      "execution_count": null,
      "metadata": {
        "id": "VYcb2YMaWwqt"
      },
      "outputs": [],
      "source": [
        "df2 = pd.read_csv(\"/content/gdrive/My Drive/Colab Notebooks/lyrics/Ringo_test.csv\", sep=',', header=0,\n",
        "                 names=[\"title\", \"lyrics\"])\n",
        "\n",
        "df2[\"label\"] = 2"
      ]
    },
    {
      "cell_type": "code",
      "execution_count": null,
      "metadata": {
        "id": "HYhcVrqHW5Ar"
      },
      "outputs": [],
      "source": [
        "df3 = pd.read_csv(\"/content/gdrive/My Drive/Colab Notebooks/lyrics/back_test.csv\", sep=',', header=0,\n",
        "                 names=[\"title\", \"lyrics\"])\n",
        "\n",
        "df3[\"label\"] = 3"
      ]
    },
    {
      "cell_type": "code",
      "execution_count": null,
      "metadata": {
        "id": "VC7i83bMW-WC"
      },
      "outputs": [],
      "source": [
        "df4 = pd.read_csv(\"/content/gdrive/My Drive/Colab Notebooks/lyrics/Rad_test.csv\", sep=',', header=0,\n",
        "                 names=[\"title\", \"lyrics\"])\n",
        "\n",
        "df4[\"label\"] = 4"
      ]
    },
    {
      "cell_type": "code",
      "execution_count": null,
      "metadata": {
        "id": "NxtfmIW8LpaI"
      },
      "outputs": [],
      "source": [
        "df5 = pd.read_csv(\"/content/gdrive/My Drive/Colab Notebooks/lyrics/B'z_test.csv\", sep=',', header=0,\n",
        "                 names=[\"title\", \"lyrics\"])\n",
        "\n",
        "df5[\"label\"] = 5"
      ]
    },
    {
      "cell_type": "code",
      "execution_count": null,
      "metadata": {
        "id": "fOIpvwe6LdJv"
      },
      "outputs": [],
      "source": [
        "df2_concat = pd.concat([df,df1,df2,df3,df4,df5],axis=0)\n",
        "print(df2_concat)"
      ]
    },
    {
      "cell_type": "code",
      "execution_count": null,
      "metadata": {
        "id": "JvKyPI0ALrPw"
      },
      "outputs": [],
      "source": [
        "labels = df2_concat.label.values\n",
        "lyrics = df2_concat.lyrics.values\n",
        "print(labels)\n",
        "print(lyrics)"
      ]
    },
    {
      "cell_type": "code",
      "execution_count": null,
      "metadata": {
        "id": "CtlKp02wLv1g"
      },
      "outputs": [],
      "source": [
        "predicted = []\n",
        "correct_labels = []\n",
        "wrong = []\n",
        "i = 0\n",
        "\n",
        "for x , label in zip(lyrics, labels):\n",
        "\n",
        "    correct_labels.append(label)\n",
        "    correct = label\n",
        "\n",
        "    encoding = tokenizer(\n",
        "            x,\n",
        "            max_length=max_length,\n",
        "            padding='max_length',\n",
        "            truncation=True,\n",
        "            return_tensors='pt'\n",
        "        )\n",
        "\n",
        "    encoding = { k: v.cuda() for k, v in encoding.items() }\n",
        "\n",
        "    with torch.no_grad():\n",
        "      output = bert_sc.forward(**encoding)\n",
        "      scores = output.logits\n",
        "      labels_predicted = scores[0].argmax(-1).cpu().numpy().tolist()\n",
        "      predicted.append(labels_predicted)\n",
        "\n",
        "    i += 1\n",
        "'''\n",
        "    if labels_predicted == correct:\n",
        "        wrong.append(i)\n",
        "'''\n"
      ]
    },
    {
      "cell_type": "code",
      "execution_count": null,
      "metadata": {
        "id": "QRhIqD8BMZay"
      },
      "outputs": [],
      "source": [
        "test_num = len(predicted)\n",
        "num_correct = 0\n",
        "tp = 0\n",
        "fp = 0\n",
        "fn = 0\n",
        "tn = 0\n",
        "\n",
        "print(predicted)\n",
        "print(correct_labels)\n",
        "\n",
        "for i in range(test_num):\n",
        "    if predicted[i] == correct_labels[i]:\n",
        "        num_correct += 1\n",
        "'''\n",
        "    if predicted[i] == 0 and correct_labels[i] == 0:\n",
        "        tp += 1\n",
        "\n",
        "    if (predicted[i] == 1 and correct_labels[i] == 0) or (predicted[i] == 1 and correct_labels[i] == 2):\n",
        "        fp += 1\n",
        "\n",
        "    if (predicted[i] == 0 and correct_labels[i] == 1) or (predicted[i] == 2 and correct_labels[i] == 1):\n",
        "        fn += 1\n",
        "\n",
        "    if (predicted[i] == 0 and correct_labels[i] == 1) or (predicted[i] == 2 and correct_labels[i] == 1):\n",
        "        tn += 1\n",
        "'''\n",
        "accuracy = num_correct / test_num\n",
        "#recall = tp /(tp + fn)\n",
        "#precision = tp /(tp + fp)\n",
        "#f_value = 2*recall*precision / (precision + recall)\n",
        "print(\"accuracy: \" + str(accuracy))\n",
        "# print(\"recall: \" + str(recall)) #先輩の3値分類の計算方法だから色々計算方法適切なものに変える\n",
        "# print(\"precision: \" + str(precision))\n",
        "# print(\"f_value: \" + str(f_value))"
      ]
    },
    {
      "cell_type": "code",
      "execution_count": null,
      "metadata": {
        "id": "rJn5Ts1MO7oL"
      },
      "outputs": [],
      "source": [
        "lyrics = []\n",
        "labels = []"
      ]
    },
    {
      "cell_type": "code",
      "execution_count": null,
      "metadata": {
        "id": "6BF_ba-SyvSl"
      },
      "outputs": [],
      "source": [
        "with open('/content/gdrive/My Drive/Colab Notebooks/lyrics/M_form.txt') as f:\n",
        "  for line in f:\n",
        "     if len(line) > 20:\n",
        "        line = line.replace('☆', '')\n",
        "        line = line.replace('★', '')\n",
        "        lyrics.append(line)\n",
        "        labels.append(0)\n",
        "        #print (line)\n"
      ]
    },
    {
      "cell_type": "code",
      "execution_count": null,
      "metadata": {
        "id": "gIrglJGkPAO0"
      },
      "outputs": [],
      "source": [
        "with open('/content/gdrive/My Drive/Colab Notebooks/lyrics/spitz_form.txt') as f:\n",
        "  for line in f:\n",
        "     if len(line) > 20:\n",
        "        line = line.replace('☆', '')\n",
        "        line = line.replace('★', '')\n",
        "        lyrics.append(line)\n",
        "        labels.append(1)\n",
        "        #print (line)\n"
      ]
    },
    {
      "cell_type": "code",
      "execution_count": null,
      "metadata": {
        "id": "q_J-zfAebosW"
      },
      "outputs": [],
      "source": [
        "\n",
        "with open('/content/gdrive/My Drive/Colab Notebooks/lyrics/Ringo_form.txt') as f:\n",
        "  for line in f:\n",
        "     if len(line) > 20:\n",
        "        line = line.replace('☆', '')\n",
        "        line = line.replace('★', '')\n",
        "        lyrics.append(line)\n",
        "        labels.append(2)\n",
        "        #print (line)\n"
      ]
    },
    {
      "cell_type": "code",
      "execution_count": null,
      "metadata": {
        "id": "5nkArLmMbjN1"
      },
      "outputs": [],
      "source": [
        "\n",
        "with open('/content/gdrive/My Drive/Colab Notebooks/lyrics/back_form.txt') as f:\n",
        "  for line in f:\n",
        "     if len(line) > 20:\n",
        "        line = line.replace('☆', '')\n",
        "        line = line.replace('★', '')\n",
        "        lyrics.append(line)\n",
        "        labels.append(3)\n",
        "        #print (line)\n"
      ]
    },
    {
      "cell_type": "code",
      "execution_count": null,
      "metadata": {
        "id": "hi6-sP-oZv84"
      },
      "outputs": [],
      "source": [
        "with open('/content/gdrive/My Drive/Colab Notebooks/lyrics/Rad_form.txt') as f:\n",
        "  for line in f:\n",
        "     if len(line) > 20:\n",
        "        line = line.replace('☆', '')\n",
        "        line = line.replace('★', '')\n",
        "        lyrics.append(line)\n",
        "        labels.append(4)\n"
      ]
    },
    {
      "cell_type": "code",
      "execution_count": null,
      "metadata": {
        "id": "AO_29bxDPTYr"
      },
      "outputs": [],
      "source": [
        "with open('/content/gdrive/My Drive/Colab Notebooks/lyrics/Bz_form.txt') as f:\n",
        "  for line in f:\n",
        "     if len(line) > 20:\n",
        "        line = line.replace('☆', '')\n",
        "        line = line.replace('★', '')\n",
        "        lyrics.append(line)\n",
        "        labels.append(5)\n"
      ]
    },
    {
      "cell_type": "code",
      "execution_count": null,
      "metadata": {
        "id": "srlGsEzXO_Lw"
      },
      "outputs": [],
      "source": [
        "print(lyrics)\n",
        "print(labels)"
      ]
    },
    {
      "cell_type": "code",
      "execution_count": null,
      "metadata": {
        "id": "xpUDV3mLyGhS"
      },
      "outputs": [],
      "source": [
        "predicted = []\n",
        "correct_labels = []\n",
        "wrong = []\n",
        "i = 0\n",
        "\n",
        "for x , label in zip(lyrics, labels):\n",
        "\n",
        "    correct_labels.append(label)\n",
        "    correct = label\n",
        "\n",
        "    encoding = tokenizer(\n",
        "            x,\n",
        "            max_length=max_length,\n",
        "            padding='max_length',\n",
        "            truncation=True,\n",
        "            return_tensors='pt'\n",
        "        )\n",
        "\n",
        "    encoding = { k: v.cuda() for k, v in encoding.items() }\n",
        "\n",
        "    with torch.no_grad():\n",
        "      output = bert_sc.forward(**encoding)\n",
        "      scores = output.logits\n",
        "      labels_predicted = scores[0].argmax(-1).cpu().numpy().tolist()\n",
        "      predicted.append(labels_predicted)\n",
        "\n",
        "    i += 1\n",
        "'''\n",
        "    if labels_predicted == correct:\n",
        "        wrong.append(i)\n",
        "'''\n"
      ]
    },
    {
      "cell_type": "code",
      "execution_count": null,
      "metadata": {
        "id": "Rr43DQJy188d"
      },
      "outputs": [],
      "source": [
        "test_num = len(predicted)\n",
        "num_correct = 0\n",
        "tp = 0\n",
        "fp = 0\n",
        "fn = 0\n",
        "tn = 0\n",
        "\n",
        "print(predicted)\n",
        "print(correct_labels)\n",
        "\n",
        "for i in range(test_num):\n",
        "    if predicted[i] == correct_labels[i]:\n",
        "        num_correct += 1\n",
        "\n",
        "    if predicted[i] == correct_labels[i]:\n",
        "        tp += 1\n",
        "\n",
        "    if predicted[i] != correct_labels[i]:\n",
        "        fp += 1\n",
        "\n",
        "    if predicted[i] != correct_labels[i]:\n",
        "        fn += 1\n",
        "\n",
        "    #if (predicted[i] == 0 and correct_labels[i] == 1) or (predicted[i] == 2 and correct_labels[i] == 1):\n",
        "        #fn += 1\n",
        "\n",
        "    if (predicted[i] == 0 and correct_labels[i] == 1) or (predicted[i] == 2 and correct_labels[i] == 1):\n",
        "        tn += 1\n",
        "\n",
        "accuracy = num_correct / test_num\n",
        "#recall = tp /(tp + fn)\n",
        "#precision = tp /(tp + fp)\n",
        "#f_value = 2*recall*precision / (precision + recall)\n",
        "print(\"accuracy: \" + str(accuracy))\n",
        "#print(\"recall: \" + str(recall)) #先輩の3値分類の計算方法だから色々計算方法適切なものに変える\n",
        "# print(\"precision: \" + str(precision))\n",
        "# print(\"f_value: \" + str(f_value))"
      ]
    }
  ],
  "metadata": {
    "accelerator": "GPU",
    "colab": {
      "provenance": [],
      "gpuType": "T4",
      "authorship_tag": "ABX9TyNnUD8kbmh3l0ugw67fIlX9",
      "include_colab_link": true
    },
    "kernelspec": {
      "display_name": "Python 3",
      "name": "python3"
    },
    "language_info": {
      "name": "python"
    },
    "widgets": {
      "application/vnd.jupyter.widget-state+json": {
        "95133b8aceaa4a8ab3ce9efd60390cf5": {
          "model_module": "@jupyter-widgets/controls",
          "model_name": "HBoxModel",
          "model_module_version": "1.5.0",
          "state": {
            "_dom_classes": [],
            "_model_module": "@jupyter-widgets/controls",
            "_model_module_version": "1.5.0",
            "_model_name": "HBoxModel",
            "_view_count": null,
            "_view_module": "@jupyter-widgets/controls",
            "_view_module_version": "1.5.0",
            "_view_name": "HBoxView",
            "box_style": "",
            "children": [
              "IPY_MODEL_e81977e4424842508c5c3eddeb4e0189",
              "IPY_MODEL_31966de64e21465e955af8c5b728d892",
              "IPY_MODEL_015fc17da2f3460098f3c55d9225e06c"
            ],
            "layout": "IPY_MODEL_feb2340a0bf54ba0b94823c266b9df31"
          }
        },
        "e81977e4424842508c5c3eddeb4e0189": {
          "model_module": "@jupyter-widgets/controls",
          "model_name": "HTMLModel",
          "model_module_version": "1.5.0",
          "state": {
            "_dom_classes": [],
            "_model_module": "@jupyter-widgets/controls",
            "_model_module_version": "1.5.0",
            "_model_name": "HTMLModel",
            "_view_count": null,
            "_view_module": "@jupyter-widgets/controls",
            "_view_module_version": "1.5.0",
            "_view_name": "HTMLView",
            "description": "",
            "description_tooltip": null,
            "layout": "IPY_MODEL_d3964532253d474180293a31e158434d",
            "placeholder": "​",
            "style": "IPY_MODEL_4fe47d00a19d46acba828d9ce3e7c17b",
            "value": "Validation DataLoader 0: 100%"
          }
        },
        "31966de64e21465e955af8c5b728d892": {
          "model_module": "@jupyter-widgets/controls",
          "model_name": "FloatProgressModel",
          "model_module_version": "1.5.0",
          "state": {
            "_dom_classes": [],
            "_model_module": "@jupyter-widgets/controls",
            "_model_module_version": "1.5.0",
            "_model_name": "FloatProgressModel",
            "_view_count": null,
            "_view_module": "@jupyter-widgets/controls",
            "_view_module_version": "1.5.0",
            "_view_name": "ProgressView",
            "bar_style": "",
            "description": "",
            "description_tooltip": null,
            "layout": "IPY_MODEL_e38c062a6b8b47f1a800ad6accd02df5",
            "max": 8,
            "min": 0,
            "orientation": "horizontal",
            "style": "IPY_MODEL_5da9d08328c443a2b8321c1839d94563",
            "value": 8
          }
        },
        "015fc17da2f3460098f3c55d9225e06c": {
          "model_module": "@jupyter-widgets/controls",
          "model_name": "HTMLModel",
          "model_module_version": "1.5.0",
          "state": {
            "_dom_classes": [],
            "_model_module": "@jupyter-widgets/controls",
            "_model_module_version": "1.5.0",
            "_model_name": "HTMLModel",
            "_view_count": null,
            "_view_module": "@jupyter-widgets/controls",
            "_view_module_version": "1.5.0",
            "_view_name": "HTMLView",
            "description": "",
            "description_tooltip": null,
            "layout": "IPY_MODEL_b37f71165ee74d28955dad25acfef11f",
            "placeholder": "​",
            "style": "IPY_MODEL_764ca2082fd44a12a7cf9abfa6fddbde",
            "value": " 8/8 [00:02&lt;00:00,  3.24it/s]"
          }
        },
        "feb2340a0bf54ba0b94823c266b9df31": {
          "model_module": "@jupyter-widgets/base",
          "model_name": "LayoutModel",
          "model_module_version": "1.2.0",
          "state": {
            "_model_module": "@jupyter-widgets/base",
            "_model_module_version": "1.2.0",
            "_model_name": "LayoutModel",
            "_view_count": null,
            "_view_module": "@jupyter-widgets/base",
            "_view_module_version": "1.2.0",
            "_view_name": "LayoutView",
            "align_content": null,
            "align_items": null,
            "align_self": null,
            "border": null,
            "bottom": null,
            "display": "inline-flex",
            "flex": null,
            "flex_flow": "row wrap",
            "grid_area": null,
            "grid_auto_columns": null,
            "grid_auto_flow": null,
            "grid_auto_rows": null,
            "grid_column": null,
            "grid_gap": null,
            "grid_row": null,
            "grid_template_areas": null,
            "grid_template_columns": null,
            "grid_template_rows": null,
            "height": null,
            "justify_content": null,
            "justify_items": null,
            "left": null,
            "margin": null,
            "max_height": null,
            "max_width": null,
            "min_height": null,
            "min_width": null,
            "object_fit": null,
            "object_position": null,
            "order": null,
            "overflow": null,
            "overflow_x": null,
            "overflow_y": null,
            "padding": null,
            "right": null,
            "top": null,
            "visibility": "hidden",
            "width": "100%"
          }
        },
        "d3964532253d474180293a31e158434d": {
          "model_module": "@jupyter-widgets/base",
          "model_name": "LayoutModel",
          "model_module_version": "1.2.0",
          "state": {
            "_model_module": "@jupyter-widgets/base",
            "_model_module_version": "1.2.0",
            "_model_name": "LayoutModel",
            "_view_count": null,
            "_view_module": "@jupyter-widgets/base",
            "_view_module_version": "1.2.0",
            "_view_name": "LayoutView",
            "align_content": null,
            "align_items": null,
            "align_self": null,
            "border": null,
            "bottom": null,
            "display": null,
            "flex": null,
            "flex_flow": null,
            "grid_area": null,
            "grid_auto_columns": null,
            "grid_auto_flow": null,
            "grid_auto_rows": null,
            "grid_column": null,
            "grid_gap": null,
            "grid_row": null,
            "grid_template_areas": null,
            "grid_template_columns": null,
            "grid_template_rows": null,
            "height": null,
            "justify_content": null,
            "justify_items": null,
            "left": null,
            "margin": null,
            "max_height": null,
            "max_width": null,
            "min_height": null,
            "min_width": null,
            "object_fit": null,
            "object_position": null,
            "order": null,
            "overflow": null,
            "overflow_x": null,
            "overflow_y": null,
            "padding": null,
            "right": null,
            "top": null,
            "visibility": null,
            "width": null
          }
        },
        "4fe47d00a19d46acba828d9ce3e7c17b": {
          "model_module": "@jupyter-widgets/controls",
          "model_name": "DescriptionStyleModel",
          "model_module_version": "1.5.0",
          "state": {
            "_model_module": "@jupyter-widgets/controls",
            "_model_module_version": "1.5.0",
            "_model_name": "DescriptionStyleModel",
            "_view_count": null,
            "_view_module": "@jupyter-widgets/base",
            "_view_module_version": "1.2.0",
            "_view_name": "StyleView",
            "description_width": ""
          }
        },
        "e38c062a6b8b47f1a800ad6accd02df5": {
          "model_module": "@jupyter-widgets/base",
          "model_name": "LayoutModel",
          "model_module_version": "1.2.0",
          "state": {
            "_model_module": "@jupyter-widgets/base",
            "_model_module_version": "1.2.0",
            "_model_name": "LayoutModel",
            "_view_count": null,
            "_view_module": "@jupyter-widgets/base",
            "_view_module_version": "1.2.0",
            "_view_name": "LayoutView",
            "align_content": null,
            "align_items": null,
            "align_self": null,
            "border": null,
            "bottom": null,
            "display": null,
            "flex": "2",
            "flex_flow": null,
            "grid_area": null,
            "grid_auto_columns": null,
            "grid_auto_flow": null,
            "grid_auto_rows": null,
            "grid_column": null,
            "grid_gap": null,
            "grid_row": null,
            "grid_template_areas": null,
            "grid_template_columns": null,
            "grid_template_rows": null,
            "height": null,
            "justify_content": null,
            "justify_items": null,
            "left": null,
            "margin": null,
            "max_height": null,
            "max_width": null,
            "min_height": null,
            "min_width": null,
            "object_fit": null,
            "object_position": null,
            "order": null,
            "overflow": null,
            "overflow_x": null,
            "overflow_y": null,
            "padding": null,
            "right": null,
            "top": null,
            "visibility": null,
            "width": null
          }
        },
        "5da9d08328c443a2b8321c1839d94563": {
          "model_module": "@jupyter-widgets/controls",
          "model_name": "ProgressStyleModel",
          "model_module_version": "1.5.0",
          "state": {
            "_model_module": "@jupyter-widgets/controls",
            "_model_module_version": "1.5.0",
            "_model_name": "ProgressStyleModel",
            "_view_count": null,
            "_view_module": "@jupyter-widgets/base",
            "_view_module_version": "1.2.0",
            "_view_name": "StyleView",
            "bar_color": null,
            "description_width": ""
          }
        },
        "b37f71165ee74d28955dad25acfef11f": {
          "model_module": "@jupyter-widgets/base",
          "model_name": "LayoutModel",
          "model_module_version": "1.2.0",
          "state": {
            "_model_module": "@jupyter-widgets/base",
            "_model_module_version": "1.2.0",
            "_model_name": "LayoutModel",
            "_view_count": null,
            "_view_module": "@jupyter-widgets/base",
            "_view_module_version": "1.2.0",
            "_view_name": "LayoutView",
            "align_content": null,
            "align_items": null,
            "align_self": null,
            "border": null,
            "bottom": null,
            "display": null,
            "flex": null,
            "flex_flow": null,
            "grid_area": null,
            "grid_auto_columns": null,
            "grid_auto_flow": null,
            "grid_auto_rows": null,
            "grid_column": null,
            "grid_gap": null,
            "grid_row": null,
            "grid_template_areas": null,
            "grid_template_columns": null,
            "grid_template_rows": null,
            "height": null,
            "justify_content": null,
            "justify_items": null,
            "left": null,
            "margin": null,
            "max_height": null,
            "max_width": null,
            "min_height": null,
            "min_width": null,
            "object_fit": null,
            "object_position": null,
            "order": null,
            "overflow": null,
            "overflow_x": null,
            "overflow_y": null,
            "padding": null,
            "right": null,
            "top": null,
            "visibility": null,
            "width": null
          }
        },
        "764ca2082fd44a12a7cf9abfa6fddbde": {
          "model_module": "@jupyter-widgets/controls",
          "model_name": "DescriptionStyleModel",
          "model_module_version": "1.5.0",
          "state": {
            "_model_module": "@jupyter-widgets/controls",
            "_model_module_version": "1.5.0",
            "_model_name": "DescriptionStyleModel",
            "_view_count": null,
            "_view_module": "@jupyter-widgets/base",
            "_view_module_version": "1.2.0",
            "_view_name": "StyleView",
            "description_width": ""
          }
        },
        "136927f39c0940939aa05360473381d5": {
          "model_module": "@jupyter-widgets/controls",
          "model_name": "HBoxModel",
          "model_module_version": "1.5.0",
          "state": {
            "_dom_classes": [],
            "_model_module": "@jupyter-widgets/controls",
            "_model_module_version": "1.5.0",
            "_model_name": "HBoxModel",
            "_view_count": null,
            "_view_module": "@jupyter-widgets/controls",
            "_view_module_version": "1.5.0",
            "_view_name": "HBoxView",
            "box_style": "",
            "children": [
              "IPY_MODEL_9f88abd2f9c149678bc69ec75317a25f",
              "IPY_MODEL_f3b2290c17af490c836750f10795aa96",
              "IPY_MODEL_f3a383c726ae4b75b0144b2340b9844d"
            ],
            "layout": "IPY_MODEL_3fc5ac500c604947b636e5077feedd08"
          }
        },
        "9f88abd2f9c149678bc69ec75317a25f": {
          "model_module": "@jupyter-widgets/controls",
          "model_name": "HTMLModel",
          "model_module_version": "1.5.0",
          "state": {
            "_dom_classes": [],
            "_model_module": "@jupyter-widgets/controls",
            "_model_module_version": "1.5.0",
            "_model_name": "HTMLModel",
            "_view_count": null,
            "_view_module": "@jupyter-widgets/controls",
            "_view_module_version": "1.5.0",
            "_view_name": "HTMLView",
            "description": "",
            "description_tooltip": null,
            "layout": "IPY_MODEL_f9cd483e758e44898c04fc795fa8c037",
            "placeholder": "​",
            "style": "IPY_MODEL_d88935c3179b4aa29980d93a406c0d02",
            "value": "Validation DataLoader 0: 100%"
          }
        },
        "f3b2290c17af490c836750f10795aa96": {
          "model_module": "@jupyter-widgets/controls",
          "model_name": "FloatProgressModel",
          "model_module_version": "1.5.0",
          "state": {
            "_dom_classes": [],
            "_model_module": "@jupyter-widgets/controls",
            "_model_module_version": "1.5.0",
            "_model_name": "FloatProgressModel",
            "_view_count": null,
            "_view_module": "@jupyter-widgets/controls",
            "_view_module_version": "1.5.0",
            "_view_name": "ProgressView",
            "bar_style": "",
            "description": "",
            "description_tooltip": null,
            "layout": "IPY_MODEL_390c49f3af0d4cde81634fd2ff9c35ee",
            "max": 8,
            "min": 0,
            "orientation": "horizontal",
            "style": "IPY_MODEL_7391dc4a68e646a89695e740e30b8a4b",
            "value": 8
          }
        },
        "f3a383c726ae4b75b0144b2340b9844d": {
          "model_module": "@jupyter-widgets/controls",
          "model_name": "HTMLModel",
          "model_module_version": "1.5.0",
          "state": {
            "_dom_classes": [],
            "_model_module": "@jupyter-widgets/controls",
            "_model_module_version": "1.5.0",
            "_model_name": "HTMLModel",
            "_view_count": null,
            "_view_module": "@jupyter-widgets/controls",
            "_view_module_version": "1.5.0",
            "_view_name": "HTMLView",
            "description": "",
            "description_tooltip": null,
            "layout": "IPY_MODEL_65bcb13c993c4b5ea22e7e0c41eb69c7",
            "placeholder": "​",
            "style": "IPY_MODEL_a67328773a5e4e46abd45cdb861cee65",
            "value": " 8/8 [00:02&lt;00:00,  3.25it/s]"
          }
        },
        "3fc5ac500c604947b636e5077feedd08": {
          "model_module": "@jupyter-widgets/base",
          "model_name": "LayoutModel",
          "model_module_version": "1.2.0",
          "state": {
            "_model_module": "@jupyter-widgets/base",
            "_model_module_version": "1.2.0",
            "_model_name": "LayoutModel",
            "_view_count": null,
            "_view_module": "@jupyter-widgets/base",
            "_view_module_version": "1.2.0",
            "_view_name": "LayoutView",
            "align_content": null,
            "align_items": null,
            "align_self": null,
            "border": null,
            "bottom": null,
            "display": "inline-flex",
            "flex": null,
            "flex_flow": "row wrap",
            "grid_area": null,
            "grid_auto_columns": null,
            "grid_auto_flow": null,
            "grid_auto_rows": null,
            "grid_column": null,
            "grid_gap": null,
            "grid_row": null,
            "grid_template_areas": null,
            "grid_template_columns": null,
            "grid_template_rows": null,
            "height": null,
            "justify_content": null,
            "justify_items": null,
            "left": null,
            "margin": null,
            "max_height": null,
            "max_width": null,
            "min_height": null,
            "min_width": null,
            "object_fit": null,
            "object_position": null,
            "order": null,
            "overflow": null,
            "overflow_x": null,
            "overflow_y": null,
            "padding": null,
            "right": null,
            "top": null,
            "visibility": "hidden",
            "width": "100%"
          }
        },
        "f9cd483e758e44898c04fc795fa8c037": {
          "model_module": "@jupyter-widgets/base",
          "model_name": "LayoutModel",
          "model_module_version": "1.2.0",
          "state": {
            "_model_module": "@jupyter-widgets/base",
            "_model_module_version": "1.2.0",
            "_model_name": "LayoutModel",
            "_view_count": null,
            "_view_module": "@jupyter-widgets/base",
            "_view_module_version": "1.2.0",
            "_view_name": "LayoutView",
            "align_content": null,
            "align_items": null,
            "align_self": null,
            "border": null,
            "bottom": null,
            "display": null,
            "flex": null,
            "flex_flow": null,
            "grid_area": null,
            "grid_auto_columns": null,
            "grid_auto_flow": null,
            "grid_auto_rows": null,
            "grid_column": null,
            "grid_gap": null,
            "grid_row": null,
            "grid_template_areas": null,
            "grid_template_columns": null,
            "grid_template_rows": null,
            "height": null,
            "justify_content": null,
            "justify_items": null,
            "left": null,
            "margin": null,
            "max_height": null,
            "max_width": null,
            "min_height": null,
            "min_width": null,
            "object_fit": null,
            "object_position": null,
            "order": null,
            "overflow": null,
            "overflow_x": null,
            "overflow_y": null,
            "padding": null,
            "right": null,
            "top": null,
            "visibility": null,
            "width": null
          }
        },
        "d88935c3179b4aa29980d93a406c0d02": {
          "model_module": "@jupyter-widgets/controls",
          "model_name": "DescriptionStyleModel",
          "model_module_version": "1.5.0",
          "state": {
            "_model_module": "@jupyter-widgets/controls",
            "_model_module_version": "1.5.0",
            "_model_name": "DescriptionStyleModel",
            "_view_count": null,
            "_view_module": "@jupyter-widgets/base",
            "_view_module_version": "1.2.0",
            "_view_name": "StyleView",
            "description_width": ""
          }
        },
        "390c49f3af0d4cde81634fd2ff9c35ee": {
          "model_module": "@jupyter-widgets/base",
          "model_name": "LayoutModel",
          "model_module_version": "1.2.0",
          "state": {
            "_model_module": "@jupyter-widgets/base",
            "_model_module_version": "1.2.0",
            "_model_name": "LayoutModel",
            "_view_count": null,
            "_view_module": "@jupyter-widgets/base",
            "_view_module_version": "1.2.0",
            "_view_name": "LayoutView",
            "align_content": null,
            "align_items": null,
            "align_self": null,
            "border": null,
            "bottom": null,
            "display": null,
            "flex": "2",
            "flex_flow": null,
            "grid_area": null,
            "grid_auto_columns": null,
            "grid_auto_flow": null,
            "grid_auto_rows": null,
            "grid_column": null,
            "grid_gap": null,
            "grid_row": null,
            "grid_template_areas": null,
            "grid_template_columns": null,
            "grid_template_rows": null,
            "height": null,
            "justify_content": null,
            "justify_items": null,
            "left": null,
            "margin": null,
            "max_height": null,
            "max_width": null,
            "min_height": null,
            "min_width": null,
            "object_fit": null,
            "object_position": null,
            "order": null,
            "overflow": null,
            "overflow_x": null,
            "overflow_y": null,
            "padding": null,
            "right": null,
            "top": null,
            "visibility": null,
            "width": null
          }
        },
        "7391dc4a68e646a89695e740e30b8a4b": {
          "model_module": "@jupyter-widgets/controls",
          "model_name": "ProgressStyleModel",
          "model_module_version": "1.5.0",
          "state": {
            "_model_module": "@jupyter-widgets/controls",
            "_model_module_version": "1.5.0",
            "_model_name": "ProgressStyleModel",
            "_view_count": null,
            "_view_module": "@jupyter-widgets/base",
            "_view_module_version": "1.2.0",
            "_view_name": "StyleView",
            "bar_color": null,
            "description_width": ""
          }
        },
        "65bcb13c993c4b5ea22e7e0c41eb69c7": {
          "model_module": "@jupyter-widgets/base",
          "model_name": "LayoutModel",
          "model_module_version": "1.2.0",
          "state": {
            "_model_module": "@jupyter-widgets/base",
            "_model_module_version": "1.2.0",
            "_model_name": "LayoutModel",
            "_view_count": null,
            "_view_module": "@jupyter-widgets/base",
            "_view_module_version": "1.2.0",
            "_view_name": "LayoutView",
            "align_content": null,
            "align_items": null,
            "align_self": null,
            "border": null,
            "bottom": null,
            "display": null,
            "flex": null,
            "flex_flow": null,
            "grid_area": null,
            "grid_auto_columns": null,
            "grid_auto_flow": null,
            "grid_auto_rows": null,
            "grid_column": null,
            "grid_gap": null,
            "grid_row": null,
            "grid_template_areas": null,
            "grid_template_columns": null,
            "grid_template_rows": null,
            "height": null,
            "justify_content": null,
            "justify_items": null,
            "left": null,
            "margin": null,
            "max_height": null,
            "max_width": null,
            "min_height": null,
            "min_width": null,
            "object_fit": null,
            "object_position": null,
            "order": null,
            "overflow": null,
            "overflow_x": null,
            "overflow_y": null,
            "padding": null,
            "right": null,
            "top": null,
            "visibility": null,
            "width": null
          }
        },
        "a67328773a5e4e46abd45cdb861cee65": {
          "model_module": "@jupyter-widgets/controls",
          "model_name": "DescriptionStyleModel",
          "model_module_version": "1.5.0",
          "state": {
            "_model_module": "@jupyter-widgets/controls",
            "_model_module_version": "1.5.0",
            "_model_name": "DescriptionStyleModel",
            "_view_count": null,
            "_view_module": "@jupyter-widgets/base",
            "_view_module_version": "1.2.0",
            "_view_name": "StyleView",
            "description_width": ""
          }
        },
        "bde83050915e46d0aa2c8003fa1fca98": {
          "model_module": "@jupyter-widgets/controls",
          "model_name": "HBoxModel",
          "model_module_version": "1.5.0",
          "state": {
            "_dom_classes": [],
            "_model_module": "@jupyter-widgets/controls",
            "_model_module_version": "1.5.0",
            "_model_name": "HBoxModel",
            "_view_count": null,
            "_view_module": "@jupyter-widgets/controls",
            "_view_module_version": "1.5.0",
            "_view_name": "HBoxView",
            "box_style": "",
            "children": [
              "IPY_MODEL_92b9091a7db24435a5453798eb491b30",
              "IPY_MODEL_57eb1809158a4dcd9b51b25661ee38f9",
              "IPY_MODEL_abb575415f034338bec3bd480ad52e1e"
            ],
            "layout": "IPY_MODEL_0513224fd65744519c0c2b86c604eb11"
          }
        },
        "92b9091a7db24435a5453798eb491b30": {
          "model_module": "@jupyter-widgets/controls",
          "model_name": "HTMLModel",
          "model_module_version": "1.5.0",
          "state": {
            "_dom_classes": [],
            "_model_module": "@jupyter-widgets/controls",
            "_model_module_version": "1.5.0",
            "_model_name": "HTMLModel",
            "_view_count": null,
            "_view_module": "@jupyter-widgets/controls",
            "_view_module_version": "1.5.0",
            "_view_name": "HTMLView",
            "description": "",
            "description_tooltip": null,
            "layout": "IPY_MODEL_7e9e2af7db944b0aa76355f617c4598c",
            "placeholder": "​",
            "style": "IPY_MODEL_697979ff259c4c32806a8fc721b7cc00",
            "value": "Validation DataLoader 0: 100%"
          }
        },
        "57eb1809158a4dcd9b51b25661ee38f9": {
          "model_module": "@jupyter-widgets/controls",
          "model_name": "FloatProgressModel",
          "model_module_version": "1.5.0",
          "state": {
            "_dom_classes": [],
            "_model_module": "@jupyter-widgets/controls",
            "_model_module_version": "1.5.0",
            "_model_name": "FloatProgressModel",
            "_view_count": null,
            "_view_module": "@jupyter-widgets/controls",
            "_view_module_version": "1.5.0",
            "_view_name": "ProgressView",
            "bar_style": "",
            "description": "",
            "description_tooltip": null,
            "layout": "IPY_MODEL_758db22db00b4206b6d8b549295d96b6",
            "max": 8,
            "min": 0,
            "orientation": "horizontal",
            "style": "IPY_MODEL_72de515d18ad498fb1d926d807e4a723",
            "value": 8
          }
        },
        "abb575415f034338bec3bd480ad52e1e": {
          "model_module": "@jupyter-widgets/controls",
          "model_name": "HTMLModel",
          "model_module_version": "1.5.0",
          "state": {
            "_dom_classes": [],
            "_model_module": "@jupyter-widgets/controls",
            "_model_module_version": "1.5.0",
            "_model_name": "HTMLModel",
            "_view_count": null,
            "_view_module": "@jupyter-widgets/controls",
            "_view_module_version": "1.5.0",
            "_view_name": "HTMLView",
            "description": "",
            "description_tooltip": null,
            "layout": "IPY_MODEL_71ed4608649948819d5303953f3f0e14",
            "placeholder": "​",
            "style": "IPY_MODEL_de39bb8902ea4607bebb4d818d739df8",
            "value": " 8/8 [00:02&lt;00:00,  3.25it/s]"
          }
        },
        "0513224fd65744519c0c2b86c604eb11": {
          "model_module": "@jupyter-widgets/base",
          "model_name": "LayoutModel",
          "model_module_version": "1.2.0",
          "state": {
            "_model_module": "@jupyter-widgets/base",
            "_model_module_version": "1.2.0",
            "_model_name": "LayoutModel",
            "_view_count": null,
            "_view_module": "@jupyter-widgets/base",
            "_view_module_version": "1.2.0",
            "_view_name": "LayoutView",
            "align_content": null,
            "align_items": null,
            "align_self": null,
            "border": null,
            "bottom": null,
            "display": "inline-flex",
            "flex": null,
            "flex_flow": "row wrap",
            "grid_area": null,
            "grid_auto_columns": null,
            "grid_auto_flow": null,
            "grid_auto_rows": null,
            "grid_column": null,
            "grid_gap": null,
            "grid_row": null,
            "grid_template_areas": null,
            "grid_template_columns": null,
            "grid_template_rows": null,
            "height": null,
            "justify_content": null,
            "justify_items": null,
            "left": null,
            "margin": null,
            "max_height": null,
            "max_width": null,
            "min_height": null,
            "min_width": null,
            "object_fit": null,
            "object_position": null,
            "order": null,
            "overflow": null,
            "overflow_x": null,
            "overflow_y": null,
            "padding": null,
            "right": null,
            "top": null,
            "visibility": "hidden",
            "width": "100%"
          }
        },
        "7e9e2af7db944b0aa76355f617c4598c": {
          "model_module": "@jupyter-widgets/base",
          "model_name": "LayoutModel",
          "model_module_version": "1.2.0",
          "state": {
            "_model_module": "@jupyter-widgets/base",
            "_model_module_version": "1.2.0",
            "_model_name": "LayoutModel",
            "_view_count": null,
            "_view_module": "@jupyter-widgets/base",
            "_view_module_version": "1.2.0",
            "_view_name": "LayoutView",
            "align_content": null,
            "align_items": null,
            "align_self": null,
            "border": null,
            "bottom": null,
            "display": null,
            "flex": null,
            "flex_flow": null,
            "grid_area": null,
            "grid_auto_columns": null,
            "grid_auto_flow": null,
            "grid_auto_rows": null,
            "grid_column": null,
            "grid_gap": null,
            "grid_row": null,
            "grid_template_areas": null,
            "grid_template_columns": null,
            "grid_template_rows": null,
            "height": null,
            "justify_content": null,
            "justify_items": null,
            "left": null,
            "margin": null,
            "max_height": null,
            "max_width": null,
            "min_height": null,
            "min_width": null,
            "object_fit": null,
            "object_position": null,
            "order": null,
            "overflow": null,
            "overflow_x": null,
            "overflow_y": null,
            "padding": null,
            "right": null,
            "top": null,
            "visibility": null,
            "width": null
          }
        },
        "697979ff259c4c32806a8fc721b7cc00": {
          "model_module": "@jupyter-widgets/controls",
          "model_name": "DescriptionStyleModel",
          "model_module_version": "1.5.0",
          "state": {
            "_model_module": "@jupyter-widgets/controls",
            "_model_module_version": "1.5.0",
            "_model_name": "DescriptionStyleModel",
            "_view_count": null,
            "_view_module": "@jupyter-widgets/base",
            "_view_module_version": "1.2.0",
            "_view_name": "StyleView",
            "description_width": ""
          }
        },
        "758db22db00b4206b6d8b549295d96b6": {
          "model_module": "@jupyter-widgets/base",
          "model_name": "LayoutModel",
          "model_module_version": "1.2.0",
          "state": {
            "_model_module": "@jupyter-widgets/base",
            "_model_module_version": "1.2.0",
            "_model_name": "LayoutModel",
            "_view_count": null,
            "_view_module": "@jupyter-widgets/base",
            "_view_module_version": "1.2.0",
            "_view_name": "LayoutView",
            "align_content": null,
            "align_items": null,
            "align_self": null,
            "border": null,
            "bottom": null,
            "display": null,
            "flex": "2",
            "flex_flow": null,
            "grid_area": null,
            "grid_auto_columns": null,
            "grid_auto_flow": null,
            "grid_auto_rows": null,
            "grid_column": null,
            "grid_gap": null,
            "grid_row": null,
            "grid_template_areas": null,
            "grid_template_columns": null,
            "grid_template_rows": null,
            "height": null,
            "justify_content": null,
            "justify_items": null,
            "left": null,
            "margin": null,
            "max_height": null,
            "max_width": null,
            "min_height": null,
            "min_width": null,
            "object_fit": null,
            "object_position": null,
            "order": null,
            "overflow": null,
            "overflow_x": null,
            "overflow_y": null,
            "padding": null,
            "right": null,
            "top": null,
            "visibility": null,
            "width": null
          }
        },
        "72de515d18ad498fb1d926d807e4a723": {
          "model_module": "@jupyter-widgets/controls",
          "model_name": "ProgressStyleModel",
          "model_module_version": "1.5.0",
          "state": {
            "_model_module": "@jupyter-widgets/controls",
            "_model_module_version": "1.5.0",
            "_model_name": "ProgressStyleModel",
            "_view_count": null,
            "_view_module": "@jupyter-widgets/base",
            "_view_module_version": "1.2.0",
            "_view_name": "StyleView",
            "bar_color": null,
            "description_width": ""
          }
        },
        "71ed4608649948819d5303953f3f0e14": {
          "model_module": "@jupyter-widgets/base",
          "model_name": "LayoutModel",
          "model_module_version": "1.2.0",
          "state": {
            "_model_module": "@jupyter-widgets/base",
            "_model_module_version": "1.2.0",
            "_model_name": "LayoutModel",
            "_view_count": null,
            "_view_module": "@jupyter-widgets/base",
            "_view_module_version": "1.2.0",
            "_view_name": "LayoutView",
            "align_content": null,
            "align_items": null,
            "align_self": null,
            "border": null,
            "bottom": null,
            "display": null,
            "flex": null,
            "flex_flow": null,
            "grid_area": null,
            "grid_auto_columns": null,
            "grid_auto_flow": null,
            "grid_auto_rows": null,
            "grid_column": null,
            "grid_gap": null,
            "grid_row": null,
            "grid_template_areas": null,
            "grid_template_columns": null,
            "grid_template_rows": null,
            "height": null,
            "justify_content": null,
            "justify_items": null,
            "left": null,
            "margin": null,
            "max_height": null,
            "max_width": null,
            "min_height": null,
            "min_width": null,
            "object_fit": null,
            "object_position": null,
            "order": null,
            "overflow": null,
            "overflow_x": null,
            "overflow_y": null,
            "padding": null,
            "right": null,
            "top": null,
            "visibility": null,
            "width": null
          }
        },
        "de39bb8902ea4607bebb4d818d739df8": {
          "model_module": "@jupyter-widgets/controls",
          "model_name": "DescriptionStyleModel",
          "model_module_version": "1.5.0",
          "state": {
            "_model_module": "@jupyter-widgets/controls",
            "_model_module_version": "1.5.0",
            "_model_name": "DescriptionStyleModel",
            "_view_count": null,
            "_view_module": "@jupyter-widgets/base",
            "_view_module_version": "1.2.0",
            "_view_name": "StyleView",
            "description_width": ""
          }
        }
      }
    }
  },
  "nbformat": 4,
  "nbformat_minor": 0
}