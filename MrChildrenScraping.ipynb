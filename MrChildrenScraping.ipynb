{
  "nbformat": 4,
  "nbformat_minor": 0,
  "metadata": {
    "colab": {
      "provenance": [],
      "authorship_tag": "ABX9TyNn7qUGA186/jnmEJy6oIWq",
      "include_colab_link": true
    },
    "kernelspec": {
      "name": "python3",
      "display_name": "Python 3"
    },
    "language_info": {
      "name": "python"
    }
  },
  "cells": [
    {
      "cell_type": "markdown",
      "metadata": {
        "id": "view-in-github",
        "colab_type": "text"
      },
      "source": [
        "<a href=\"https://colab.research.google.com/github/mr-44-bs/createLyrics/blob/main/MrChildrenScraping.ipynb\" target=\"_parent\"><img src=\"https://colab.research.google.com/assets/colab-badge.svg\" alt=\"Open In Colab\"/></a>"
      ]
    },
    {
      "cell_type": "code",
      "source": [
        "from google.colab import drive\n",
        "drive.mount('/content/gdrive')"
      ],
      "metadata": {
        "colab": {
          "base_uri": "https://localhost:8080/"
        },
        "id": "Sjxsg2BdPO8X",
        "outputId": "ea6feaee-0cde-4f1b-d972-e25018a30d07"
      },
      "execution_count": null,
      "outputs": [
        {
          "output_type": "stream",
          "name": "stdout",
          "text": [
            "Mounted at /content/gdrive\n"
          ]
        }
      ]
    },
    {
      "cell_type": "code",
      "source": [
        "import requests\n",
        "from bs4 import BeautifulSoup\n",
        "import pandas as pd\n",
        "import time\n",
        "import re\n",
        "from datetime import datetime\n",
        "import lxml\n",
        "import os"
      ],
      "metadata": {
        "id": "IKgovLWnzJy8"
      },
      "execution_count": null,
      "outputs": []
    },
    {
      "cell_type": "code",
      "source": [
        "base_url = 'https://www.uta-net.com'\n",
        "#スクレイピングしたデータを入れる表を作成\n",
        "user_agent = 'Mozilla/5.0 (Windows NT 10.0; Win64; x64) AppleWebKit/537.36 (KHTML, like Gecko) Chrome/112.0.0.0 Safari/537.36'\n",
        "list_df = pd.DataFrame(columns=['曲名', '歌詞'])\n",
        "#アルバム一覧ページ\n",
        "url = 'https://www.uta-net.com/artist/126/'\n",
        "\n",
        "header = {'User-Agent': user_agent}\n",
        "response = requests.get(url,headers=header)\n",
        "#print(response)\n",
        "\n",
        "soup = BeautifulSoup(response.text, 'lxml')\n",
        "#print(soup)\n",
        "\n",
        "#引数として、class_='sp-w-100'を与えます\n",
        "links = soup.find_all('td', class_='sp-w-100')\n",
        "#print(links)\n",
        "\n",
        "folder_name = \"/content/drive/My Drive/Colab Notebooks/lyrics/\"\n",
        "\n",
        "# 保存するフォルダが存在しない場合は作成する\n",
        "if not os.path.exists(folder_name):\n",
        "    os.makedirs(folder_name)\n",
        "\n",
        "\n",
        "for i in range(5):\n",
        "  a = base_url + (links[i].a.get('href'))\n",
        "  response = requests.get(a)\n",
        "  soup = BeautifulSoup(response.text, 'lxml')\n",
        "  song_name = soup.find('h2').text\n",
        "  #print(song_name)\n",
        "\n",
        "  song_kashi = soup.find('div', id=\"kashi_area\")\n",
        "  song_kashi = song_kashi.text\n",
        "\n",
        "  file_name = song_name +\".txt\"\n",
        "  print(file_name)\n",
        "  file_path = os.path.join(folder_name, file_name)\n",
        "  print(file_path)\n",
        "\n",
        "  tmp_se = pd.DataFrame([[song_name], [song_kashi]], index=list_df.columns).T\n",
        "  list_df = list_df.append(tmp_se)\n",
        "  print(tmp_se)\n",
        "\n",
        "  '''\n",
        "  with open(file_path, \"w\") as f:\n",
        "    f.write(song_kashi)\n",
        "  '''\n",
        "print(list_df)\n"
      ],
      "metadata": {
        "colab": {
          "base_uri": "https://localhost:8080/"
        },
        "id": "5r-9mybMzMDi",
        "outputId": "03c1d50d-a718-44ef-cb14-b24cde2a20d4"
      },
      "execution_count": null,
      "outputs": [
        {
          "output_type": "stream",
          "name": "stdout",
          "text": [
            "I.txt\n",
            "/content/drive/My Drive/Colab Notebooks/lyrics/I.txt\n",
            "  曲名                                                 歌詞\n",
            "0  I  もう　いいでしょう!?これで終わりにしようねぇ　どうでしょう!?君だってそう思うでしょ!?散...\n"
          ]
        },
        {
          "output_type": "stream",
          "name": "stderr",
          "text": [
            "<ipython-input-3-3000653fca13>:44: FutureWarning: The frame.append method is deprecated and will be removed from pandas in a future version. Use pandas.concat instead.\n",
            "  list_df = list_df.append(tmp_se)\n"
          ]
        },
        {
          "output_type": "stream",
          "name": "stdout",
          "text": [
            "I Can Make It.txt\n",
            "/content/drive/My Drive/Colab Notebooks/lyrics/I Can Make It.txt\n",
            "              曲名                                                 歌詞\n",
            "0  I Can Make It  明け方　非現実的な夢をバスタブに浮かべてみる身体は疲れてるのに目は冴えるやるべきことは沢山「...\n"
          ]
        },
        {
          "output_type": "stream",
          "name": "stderr",
          "text": [
            "<ipython-input-3-3000653fca13>:44: FutureWarning: The frame.append method is deprecated and will be removed from pandas in a future version. Use pandas.concat instead.\n",
            "  list_df = list_df.append(tmp_se)\n"
          ]
        },
        {
          "output_type": "stream",
          "name": "stdout",
          "text": [
            "I'm sorry.txt\n",
            "/content/drive/My Drive/Colab Notebooks/lyrics/I'm sorry.txt\n",
            "          曲名                                                 歌詞\n",
            "0  I'm sorry  あれは血迷ってた僕の思い過ごしでした八割位はあなたの言った通りでしたいましがた　人づてで　御...\n"
          ]
        },
        {
          "output_type": "stream",
          "name": "stderr",
          "text": [
            "<ipython-input-3-3000653fca13>:44: FutureWarning: The frame.append method is deprecated and will be removed from pandas in a future version. Use pandas.concat instead.\n",
            "  list_df = list_df.append(tmp_se)\n"
          ]
        },
        {
          "output_type": "stream",
          "name": "stdout",
          "text": [
            "I'm talking about Lovin'.txt\n",
            "/content/drive/My Drive/Colab Notebooks/lyrics/I'm talking about Lovin'.txt\n",
            "                         曲名                                                 歌詞\n",
            "0  I'm talking about Lovin'  有効期限(リミット)までまだ間に合うぜ僕が手にしたone-way ticket胸に秘めた不満...\n"
          ]
        },
        {
          "output_type": "stream",
          "name": "stderr",
          "text": [
            "<ipython-input-3-3000653fca13>:44: FutureWarning: The frame.append method is deprecated and will be removed from pandas in a future version. Use pandas.concat instead.\n",
            "  list_df = list_df.append(tmp_se)\n"
          ]
        },
        {
          "output_type": "stream",
          "name": "stdout",
          "text": [
            "I'LL BE.txt\n",
            "/content/drive/My Drive/Colab Notebooks/lyrics/I'LL BE.txt\n",
            "        曲名                                                 歌詞\n",
            "0  I'LL BE  気が付きゃ勇み足　そんな日には深呼吸をしてみるんだTシャツの中を泳ぐ風と　共に歌いながら乾き...\n",
            "                         曲名                                                 歌詞\n",
            "0                         I  もう　いいでしょう!?これで終わりにしようねぇ　どうでしょう!?君だってそう思うでしょ!?散...\n",
            "0             I Can Make It  明け方　非現実的な夢をバスタブに浮かべてみる身体は疲れてるのに目は冴えるやるべきことは沢山「...\n",
            "0                 I'm sorry  あれは血迷ってた僕の思い過ごしでした八割位はあなたの言った通りでしたいましがた　人づてで　御...\n",
            "0  I'm talking about Lovin'  有効期限(リミット)までまだ間に合うぜ僕が手にしたone-way ticket胸に秘めた不満...\n",
            "0                   I'LL BE  気が付きゃ勇み足　そんな日には深呼吸をしてみるんだTシャツの中を泳ぐ風と　共に歌いながら乾き...\n"
          ]
        },
        {
          "output_type": "stream",
          "name": "stderr",
          "text": [
            "<ipython-input-3-3000653fca13>:44: FutureWarning: The frame.append method is deprecated and will be removed from pandas in a future version. Use pandas.concat instead.\n",
            "  list_df = list_df.append(tmp_se)\n"
          ]
        }
      ]
    },
    {
      "cell_type": "code",
      "source": [
        "list_df.to_csv(\"/content/gdrive/My Drive/Colab Notebooks/lyrics/test_lyrics.csv\", index=False)"
      ],
      "metadata": {
        "id": "ITpqGnfOYHmC"
      },
      "execution_count": null,
      "outputs": []
    }
  ]
}